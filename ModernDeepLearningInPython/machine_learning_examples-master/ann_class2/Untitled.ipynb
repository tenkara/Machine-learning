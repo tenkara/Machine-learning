{
 "cells": [
  {
   "cell_type": "code",
   "execution_count": 1,
   "id": "2638eec6",
   "metadata": {},
   "outputs": [],
   "source": [
    "import statistics as s"
   ]
  },
  {
   "cell_type": "code",
   "execution_count": 2,
   "id": "aedde9a6",
   "metadata": {},
   "outputs": [],
   "source": [
    "sample1 = [-0.30, .30, .5, .2, -.1, -.1, .1, 1,.8, .9 ]"
   ]
  },
  {
   "cell_type": "code",
   "execution_count": 5,
   "id": "93b92ee7",
   "metadata": {},
   "outputs": [],
   "source": [
    "std = s.stdev(sample1)"
   ]
  },
  {
   "cell_type": "code",
   "execution_count": 6,
   "id": "07c5b01b",
   "metadata": {},
   "outputs": [
    {
     "data": {
      "text/plain": [
       "0.45472824607426554"
      ]
     },
     "execution_count": 6,
     "metadata": {},
     "output_type": "execute_result"
    }
   ],
   "source": [
    "std"
   ]
  },
  {
   "cell_type": "code",
   "execution_count": null,
   "id": "c6f90b89",
   "metadata": {},
   "outputs": [],
   "source": []
  }
 ],
 "metadata": {
  "kernelspec": {
   "display_name": "Python 3 (ipykernel)",
   "language": "python",
   "name": "python3"
  },
  "language_info": {
   "codemirror_mode": {
    "name": "ipython",
    "version": 3
   },
   "file_extension": ".py",
   "mimetype": "text/x-python",
   "name": "python",
   "nbconvert_exporter": "python",
   "pygments_lexer": "ipython3",
   "version": "3.9.7"
  }
 },
 "nbformat": 4,
 "nbformat_minor": 5
}
